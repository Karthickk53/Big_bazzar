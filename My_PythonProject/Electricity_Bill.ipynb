{
 "cells": [
  {
   "cell_type": "code",
   "execution_count": null,
   "id": "fff8a55c-1a8b-4d7b-a94c-7fb369b9b0f1",
   "metadata": {},
   "outputs": [
    {
     "name": "stdout",
     "output_type": "stream",
     "text": [
      "Menu\n",
      "1: Resistration\n",
      "2: Bill Calculation\n",
      "3: View Bill\n",
      "4 : Exit\n"
     ]
    },
    {
     "name": "stdin",
     "output_type": "stream",
     "text": [
      "Enter your choice 1/2/3/4 1\n",
      "Enter The name karthick\n",
      "Enter the consumer number 443434\n",
      "Enther the email id karthickk53@gmail.com\n"
     ]
    },
    {
     "name": "stdout",
     "output_type": "stream",
     "text": [
      "************************************************\n",
      "Name karthick\n",
      "Consumer_number 443434\n",
      "Email_Id karthickk53@gmail.com\n",
      "Above details Resistered successfully\n",
      "************************************************\n",
      "Menu\n",
      "1: Resistration\n",
      "2: Bill Calculation\n",
      "3: View Bill\n",
      "4 : Exit\n"
     ]
    },
    {
     "name": "stdin",
     "output_type": "stream",
     "text": [
      "Enter your choice 1/2/3/4 3\n"
     ]
    },
    {
     "name": "stdout",
     "output_type": "stream",
     "text": [
      "karthick\n",
      "443434\n",
      "karthickk53@gmail.com\n",
      "150\n",
      "0\n",
      "[]\n",
      "Menu\n",
      "1: Resistration\n",
      "2: Bill Calculation\n",
      "3: View Bill\n",
      "4 : Exit\n"
     ]
    }
   ],
   "source": [
    "class Electricity_Bill:\n",
    "    \n",
    "    def __init__(self):\n",
    "        self.Customer_name = \"\"\n",
    "        self.Consumer_number = 0\n",
    "        self.Email_id       = \"\"\n",
    "        self.Meter_Charge = 150\n",
    "        self.Consumed_Unit = 0\n",
    "        self.Total_Amount = []\n",
    "\n",
    "    def Registration(self):\n",
    "        self.Customer_name = input(\"Enter The name\")\n",
    "        self.Consumer_number = int(input(\"Enter the consumer number\"))\n",
    "        self.Email_id = input(\"Enther the email id\")\n",
    "        print(\"************************************************\")\n",
    "        print(\"Name\",self.Customer_name)\n",
    "        print(\"Consumer_number\",self.Consumer_number)\n",
    "        print(\"Email_Id\",self.Email_id)\n",
    "        print(\"Above details Resistered successfully\")\n",
    "        print(\"************************************************\")\n",
    "    def Bill_calculation(self):\n",
    "        self.Previous_meter_reading = int(input(\"Enter the Meter Reading\"))\n",
    "        self.Current_meter_reading = int(input(\"Enter the Current Reading\"))\n",
    "        self.Consumed_Unit = (self.Current_meter_reading - self.Previous_meter_reading)\n",
    "        if  self.Consumed_Unit <= 100:\n",
    "            self.Bill_Amount = self.Consumed_Unit * 3.5 + self.Meter_Charge\n",
    "            self.Total_Amount.append(self.Bill_Amount)\n",
    "            print(\"Consumed_Unit\",self.Consumed_Unit)\n",
    "            print(\"Total_Amount\",self.Total_Amount)\n",
    "        elif self.Consumed_Unit <= 200:\n",
    "            self.Bill_Amount = 100 * 3.5 +(self.Consumed_Unit -100)* 5 + self.Meter_Charge\n",
    "            self.Total_Amount.append(self.Bill_Amount)\n",
    "            print(\"Consumed_Unit\",self.Consumed_Unit)\n",
    "            print(\"Total_Amount\",self.Total_Amount)\n",
    "        else: \n",
    "            self.Bill_Amount = 100 * 3.5 + 100 * 5 + (self.Consumed_Unit - 200) * 8 + self.Meter_Charge\n",
    "            self.Total_Amount.append(self.Bill_Amount)\n",
    "            print(\"Consumed_Unit\",self.Consumed_Unit)\n",
    "            print(\"Total_Amount\",self.Total_Amount)\n",
    "\n",
    "    def View_Bill(self):\n",
    "        print(self.Customer_name)\n",
    "        print(self.Consumer_number)\n",
    "        print(self.Email_id)\n",
    "        print(self.Meter_Charge)\n",
    "        print(self.Consumed_Unit)\n",
    "        print(self.Total_Amount)\n",
    "        \n",
    "user = Electricity_Bill()\n",
    "\n",
    "while True:\n",
    "    \n",
    "    print(\"Menu\")\n",
    "    print(\"1: Resistration\")\n",
    "    print(\"2: Bill Calculation\")\n",
    "    print(\"3: View Bill\")\n",
    "    print(\"4 : Exit\")\n",
    "\n",
    "    choice= int(input(\"Enter your choice 1/2/3/4\"))\n",
    "\n",
    "    if choice == 1:\n",
    "        user.Registration()\n",
    "    elif choice == 2:\n",
    "        user.Bill_calculation()\n",
    "    elif choice == 3:\n",
    "        user.View_Bill()\n",
    "    elif choice == 4:\n",
    "        print(\"Thank You\")\n",
    "else:\n",
    "    print(\"Invalid Choice\")\n",
    "        "
   ]
  },
  {
   "cell_type": "code",
   "execution_count": null,
   "id": "5a1ca2a0-4480-4f06-9b92-88ce16321da4",
   "metadata": {},
   "outputs": [],
   "source": []
  }
 ],
 "metadata": {
  "kernelspec": {
   "display_name": "Python 3 (ipykernel)",
   "language": "python",
   "name": "python3"
  },
  "language_info": {
   "codemirror_mode": {
    "name": "ipython",
    "version": 3
   },
   "file_extension": ".py",
   "mimetype": "text/x-python",
   "name": "python",
   "nbconvert_exporter": "python",
   "pygments_lexer": "ipython3",
   "version": "3.12.4"
  }
 },
 "nbformat": 4,
 "nbformat_minor": 5
}
