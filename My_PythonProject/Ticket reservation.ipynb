{
 "cells": [
  {
   "cell_type": "code",
   "execution_count": null,
   "id": "00e754cf-8558-48f9-bf3d-b2753005d227",
   "metadata": {},
   "outputs": [
    {
     "name": "stdin",
     "output_type": "stream",
     "text": [
      "Enter your username: karthick\n",
      "Enter your fullname: Karthick R\n",
      "Enter your age: 35\n",
      "Male/Felame: Male\n",
      "For booking press:1, To cancel the ticket press :2, To view the tickets press: 3, To leave press 0: 1\n"
     ]
    },
    {
     "name": "stdout",
     "output_type": "stream",
     "text": [
      "[1, 2, 3, 4, 5, 6, 7, 8, 9, 10]\n"
     ]
    },
    {
     "name": "stdin",
     "output_type": "stream",
     "text": [
      "Enter the seat number from the above seats you want to book: 2\n"
     ]
    },
    {
     "name": "stdout",
     "output_type": "stream",
     "text": [
      "Ticket successfully Booked :)\n",
      "Available seats: [1, 3, 4, 5, 6, 7, 8, 9, 10]\n"
     ]
    },
    {
     "name": "stdin",
     "output_type": "stream",
     "text": [
      "Do you want to book more tickets Yes/No: No\n"
     ]
    },
    {
     "name": "stdout",
     "output_type": "stream",
     "text": [
      "Thank You, visit again\n"
     ]
    }
   ],
   "source": [
    "#### ticket reservation\n",
    "class ticket:\n",
    "    name = \"\"\n",
    "    age = \"\"\n",
    "    gender = \"\"\n",
    "    seats = [1,2,3,4,5,6,7,8,9,10]\n",
    "    booked_tickets = []\n",
    "    def registration(user):\n",
    "        user.name = input(\"Enter your fullname:\")\n",
    "        user.age = int(input(\"Enter your age:\"))\n",
    "        user.gender = input(\"Male/Felame:\")\n",
    "    def booking():\n",
    "        print(ticket.seats)\n",
    "        seat_select = int(input(\"Enter the seat number from the above seats you want to book:\"))\n",
    "        if seat_select not in ticket.seats:\n",
    "            print(\"Not Available/Already Booked\")\n",
    "        else:\n",
    "            ticket.seats.remove(seat_select)\n",
    "            ticket.booked_tickets.append(seat_select)\n",
    "            print(\"Ticket successfully Booked :)\")\n",
    "            print(\"Available seats:\",ticket.seats)\n",
    "        \n",
    "    def cancel():\n",
    "        print(\"Booked Tickets:\",ticket.booked_tickets)\n",
    "        seat_select = int(input(\"Enter the seat number from the above seats you want to cancel:\"))\n",
    "        if seat_select not in ticket.booked_tickets:\n",
    "            print(\"Try again later with valid seat number\")\n",
    "        else:\n",
    "            ticket.seats.append(seat_select)\n",
    "            ticket.booked_tickets.remove(seat_select)\n",
    "            print(\"Ticket cancelled succesfully\")\n",
    "user = input(\"Enter your username:\")\n",
    "user = ticket()\n",
    "user.registration()\n",
    "book_or_cancel = int(input(\"For booking press:1, To cancel the ticket press :2, To view the tickets press: 3, To leave press 0:\"))\n",
    "while book_or_cancel != 0 :\n",
    "    if book_or_cancel == 2:\n",
    "        if len(ticket.seats) == 10:\n",
    "            print(\"Please book your ticket/ Enter a correct option\")\n",
    "        else:\n",
    "            ticket.cancel()\n",
    "    if book_or_cancel == 1:\n",
    "        ticket.booking()\n",
    "        more_ticket = input(\"Do you want to book more tickets Yes/No:\").lower()\n",
    "        while more_ticket == \"yes\":\n",
    "            ticket.booking()\n",
    "            more_ticket = input(\"Do you want to book more tickets Yes/No:\").lower()\n",
    "        if more_ticket == \"no\":\n",
    "            print(\"Thank You, visit again\")\n",
    "    if book_or_cancel == 3:\n",
    "        if len(ticket.seats) == 10:\n",
    "            print(\"Please book your ticket/ Enter a correct option\")\n",
    "        else:\n",
    "            print(\"Name:\",user.name)\n",
    "            print(\"Age:\",user.age,)\n",
    "            print(\"Gender:\",user.gender)\n",
    "            print(\"Your seats:\",ticket.booked_tickets)\n",
    "    book_or_cancel = int(input(\"For booking press:1, To cancel the ticket press :2, To view the tickets press: 3, To leave press 0:\"))\n"
   ]
  },
  {
   "cell_type": "code",
   "execution_count": null,
   "id": "5c834d01-3479-4858-a1a1-f5bc1626e0d4",
   "metadata": {},
   "outputs": [],
   "source": []
  }
 ],
 "metadata": {
  "kernelspec": {
   "display_name": "Python 3 (ipykernel)",
   "language": "python",
   "name": "python3"
  },
  "language_info": {
   "codemirror_mode": {
    "name": "ipython",
    "version": 3
   },
   "file_extension": ".py",
   "mimetype": "text/x-python",
   "name": "python",
   "nbconvert_exporter": "python",
   "pygments_lexer": "ipython3",
   "version": "3.12.4"
  }
 },
 "nbformat": 4,
 "nbformat_minor": 5
}
