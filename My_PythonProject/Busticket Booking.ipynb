{
 "cells": [
  {
   "cell_type": "code",
   "execution_count": null,
   "id": "134391dc-11f6-4e42-8ee2-e3c08b319272",
   "metadata": {},
   "outputs": [
    {
     "name": "stdout",
     "output_type": "stream",
     "text": [
      "*************************************************************\n",
      "Menu\n",
      "0. Registration\n",
      "1. Book Ticket\n",
      "2. Cancel Ticket\n",
      "3. View Ticket\n",
      "4. Exit\n",
      "*************************************************************\n"
     ]
    },
    {
     "name": "stdin",
     "output_type": "stream",
     "text": [
      "enter your choice 0\n",
      "Enter your name karthick\n",
      "enter your age 30\n",
      "enter the bus name silambarasan travels\n",
      "enter the gender male/female male\n",
      "enter the start location chennai\n",
      "enter the destination vellore\n",
      "enter the no of ticket 2\n",
      "enter the amount 300\n"
     ]
    },
    {
     "name": "stdout",
     "output_type": "stream",
     "text": [
      "*************************************************************\n",
      "Menu\n",
      "0. Registration\n",
      "1. Book Ticket\n",
      "2. Cancel Ticket\n",
      "3. View Ticket\n",
      "4. Exit\n",
      "*************************************************************\n"
     ]
    },
    {
     "name": "stdin",
     "output_type": "stream",
     "text": [
      "enter your choice 3\n"
     ]
    },
    {
     "name": "stdout",
     "output_type": "stream",
     "text": [
      "name karthick\n",
      "Age 30\n",
      "Bus_name silambarasan travels\n",
      "sex male\n",
      "bording chennai\n",
      "Destination vellore\n",
      "Seat_No []\n",
      "Amount 300\n",
      "*************************************************************\n",
      "Menu\n",
      "0. Registration\n",
      "1. Book Ticket\n",
      "2. Cancel Ticket\n",
      "3. View Ticket\n",
      "4. Exit\n",
      "*************************************************************\n"
     ]
    }
   ],
   "source": [
    "class bus_ticket_booking:\n",
    "\n",
    "    def __init__(self):\n",
    "        self.name =\"\"\n",
    "        self.Age = \"\"\n",
    "        self.bus_name =\"\"\n",
    "        self.Sex=\"\"\n",
    "        self.bording=\"\"\n",
    "        self.destination=\"\"\n",
    "        self.tickets=\"\"\n",
    "        self.amount=0\n",
    "        self.seats_available =[1,2,3,4,5,6,7,8,9,10]\n",
    "        self.seats_not_available =[]\n",
    "        \n",
    "    def registration(self):\n",
    "        self.name = input(\"Enter your name\")\n",
    "        self.age = int(input(\"enter your age\"))\n",
    "        self.bus_name = input(\"enter the bus name\")\n",
    "        self.sex = input(\"enter the gender male/female\")\n",
    "        self.bording = input(\"enter the start location\")\n",
    "        self.destination = input(\"enter the destination\")\n",
    "        self.tickets =int(input(\"enter the no of ticket\"))\n",
    "        self.amount =int(input(\"enter the amount\"))\n",
    "        \n",
    "    def booking(self):\n",
    "        print (self.seats_available)\n",
    "        a= int(input(\"select seats for booking\"))\n",
    "        if a in self.seats_available:\n",
    "            self.seats_available.remove(a)\n",
    "            self.seats_not_available.append(a)\n",
    "            print(\"selected ticket is booked sucessfully\")\n",
    "        else:\n",
    "            print(\"selected seat is not available\")\n",
    "            \n",
    "    def view(self):\n",
    "        print(\"name\",self.name)\n",
    "        print(\"Age\",self.age)\n",
    "        print(\"Bus_name\",self.bus_name)\n",
    "        print(\"sex\",self.sex)\n",
    "        print(\"bording\",self.bording)\n",
    "        print(\"Destination\",self.destination)\n",
    "        print(\"Seat_No\",self.seats_not_available)\n",
    "        print(\"Amount\",self.amount)\n",
    "\n",
    "    def cancellation(self):\n",
    "            print(\"booked tickets\",self.seats_not_available)\n",
    "            a=int(input(\"From the above which seat you want to cancel\"))\n",
    "            if a in self.seats_not_available:\n",
    "                self.seats_available.append(a)\n",
    "                self.seats_not_available.remove(a)\n",
    "                print(\"selected seat has been cancelled at your request and amount will be refund\")\n",
    "            else:\n",
    "                print(\"please entered valid number\")\n",
    "                \n",
    "user = bus_ticket_booking()\n",
    "\n",
    "while True:\n",
    "    print(\"*************************************************************\")\n",
    "    print(\"Menu\")\n",
    "    print(\"0. Registration\")\n",
    "    print(\"1. Book Ticket\")\n",
    "    print(\"2. Cancel Ticket\")\n",
    "    print(\"3. View Ticket\")\n",
    "    print(\"4. Exit\")\n",
    "    print(\"*************************************************************\")\n",
    "    choice = int(input(\"enter your choice\"))\n",
    "    if choice == 0:\n",
    "        user.registration()\n",
    "    elif choice == 1:\n",
    "       user.booking()\n",
    "    elif choice == 2:\n",
    "        user.cancellation()\n",
    "    elif choice == 3:\n",
    "        user.view()\n",
    "    elif choice ==4:\n",
    "        print(\"Thank You\")\n",
    "        break\n",
    "else:\n",
    "    print(\"Try again\")\n",
    "\n",
    "            "
   ]
  },
  {
   "cell_type": "code",
   "execution_count": null,
   "id": "7d65e879-c25c-44b0-818b-5588420bc070",
   "metadata": {},
   "outputs": [],
   "source": []
  }
 ],
 "metadata": {
  "kernelspec": {
   "display_name": "Python 3 (ipykernel)",
   "language": "python",
   "name": "python3"
  },
  "language_info": {
   "codemirror_mode": {
    "name": "ipython",
    "version": 3
   },
   "file_extension": ".py",
   "mimetype": "text/x-python",
   "name": "python",
   "nbconvert_exporter": "python",
   "pygments_lexer": "ipython3",
   "version": "3.12.4"
  }
 },
 "nbformat": 4,
 "nbformat_minor": 5
}
