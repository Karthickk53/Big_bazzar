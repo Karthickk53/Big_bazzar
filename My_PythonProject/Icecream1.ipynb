{
 "cells": [
  {
   "cell_type": "code",
   "execution_count": 23,
   "id": "f28274cd-74b1-40c6-abb5-350d64e45c17",
   "metadata": {},
   "outputs": [
    {
     "name": "stdout",
     "output_type": "stream",
     "text": [
      "Welcome to Chennai Kulfi\n",
      "Menu\n",
      "Cornatto\n",
      "Kulfi King\n",
      "Stick Cream\n",
      "Casata\n",
      "Cup\n"
     ]
    },
    {
     "name": "stdin",
     "output_type": "stream",
     "text": [
      "Enter the customer name:  karthick\n",
      "Select type of ice cream (cornatto/kulfi king/stick cream/casata/cup):  cup\n",
      "Enter the ice cream flavor vanilla/chocolate/strawberry vanilla\n",
      "Enter the quantity:  2\n"
     ]
    },
    {
     "name": "stdout",
     "output_type": "stream",
     "text": [
      "Order placed successfully.\n",
      "  order_id  customer_name    type_of_ice_cream    ice_flavour      quantity    per_quantity_price    amount  order_date\n",
      "----------  ---------------  -------------------  -------------  ----------  --------------------  --------  -------------------\n",
      "         1  karthick         cornatto             vanilla                 2                    50       100  2024-08-01 16:19:52\n",
      "         2  karthick         cup                  vanilla                 2                    40        80  2024-08-01 16:29:31\n"
     ]
    }
   ],
   "source": [
    "import mysql.connector\n",
    "from tabulate import tabulate\n",
    "\n",
    "# Database connection\n",
    "connect = mysql.connector.connect(\n",
    "    host=\"localhost\",\n",
    "    user=\"root\",\n",
    "    password=\"root\",\n",
    "    database=\"classicmodels\"\n",
    ")\n",
    "res = connect.cursor()\n",
    "\n",
    "def menu():\n",
    "    print(\"Welcome to Chennai Kulfi\")\n",
    "    print(\"Menu\")\n",
    "    print(\"Cornatto\")\n",
    "    print(\"Kulfi King\")\n",
    "    print(\"Stick Cream\")\n",
    "    print(\"Casata\")\n",
    "    print(\"Cup\")\n",
    "\n",
    "def get_price_and_quantity(ice_cream_type, ice_flavour):\n",
    "    query = \"SELECT price, quantity FROM product_details WHERE type_of_ice_cream = %s AND ice_flavour = %s\"\n",
    "    res.execute(query, (ice_cream_type, ice_flavour))\n",
    "    result = res.fetchone()\n",
    "    if result:\n",
    "        return result[0], result[1] \n",
    "    else:\n",
    "        return None, None\n",
    "\n",
    "def order():\n",
    "    ice_cream_types = {\n",
    "        \"cornatto\": [\"vanilla\", \"chocolate\", \"strawberry\"],\n",
    "        \"kulfi king\": [\"pista\", \"badam\", \"kesar\"],\n",
    "        \"stick cream\": [\"mango\", \"orange\", \"grape\"],\n",
    "        \"casata\": [\"butterscotch\", \"chocolate\", \"vanilla\"],\n",
    "        \"cup\": [\"vanilla\", \"chocolate\", \"strawberry\"]\n",
    "    }\n",
    "\n",
    "    customer_name = input(\"Enter the customer name: \").strip()\n",
    "    type_of_ice_cream = input(\"Select type of ice cream (cornatto/kulfi king/stick cream/casata/cup): \").strip().lower()\n",
    "\n",
    "    if type_of_ice_cream not in ice_cream_types:\n",
    "        print(\"Invalid ice cream type selected.\")\n",
    "        return\n",
    "\n",
    "    available_flavors = ice_cream_types[type_of_ice_cream]\n",
    "    ice_flavour = input(f\"Enter the ice cream flavor {\"/\".join (available_flavors)}\").strip().lower()\n",
    "\n",
    "    if ice_flavour not in available_flavors:\n",
    "        print(\"Invalid ice cream flavor selected.\")\n",
    "        return\n",
    "\n",
    "    price, available_quantity = get_price_and_quantity(type_of_ice_cream, ice_flavour)\n",
    "    if price is None:\n",
    "        print(\"Selected ice cream type or flavor is not available.\")\n",
    "        return\n",
    "\n",
    "    quantity = int(input(\"Enter the quantity: \"))\n",
    "    \n",
    "    if quantity > available_quantity:\n",
    "        print(f\"Only {available_quantity} units available. Cannot place the order.\")\n",
    "        return\n",
    "\n",
    "    amount = quantity * price\n",
    "    query = \"\"\"\n",
    "    INSERT INTO order_details (customer_name, type_of_ice_cream, ice_flavour, quantity, per_quantity_price, amount)\n",
    "    VALUES (%s, %s, %s, %s, %s, %s)\n",
    "    \"\"\"\n",
    "    values = (customer_name, type_of_ice_cream, ice_flavour, quantity, price, amount)\n",
    "    res.execute(query, values)\n",
    "\n",
    "    new_quantity = available_quantity - quantity\n",
    "    update_query = \"UPDATE product_details SET quantity = %s WHERE type_of_ice_cream = %s AND ice_flavour = %s\"\n",
    "    res.execute(update_query, (new_quantity, type_of_ice_cream, ice_flavour))\n",
    "\n",
    "    connect.commit()\n",
    "    print(\"Order placed successfully.\")\n",
    "\n",
    "def show():\n",
    "    query = \"SELECT * FROM order_details\"\n",
    "    res.execute(query)\n",
    "    result = res.fetchall()\n",
    "    print(tabulate(result, headers=[\"order_id\", \"customer_name\", \"type_of_ice_cream\", \"ice_flavour\", \"quantity\", \"per_quantity_price\", \"amount\", \"order_date\"]))\n",
    "\n",
    "menu()\n",
    "order()\n",
    "show()\n"
   ]
  },
  {
   "cell_type": "code",
   "execution_count": null,
   "id": "6efb9b8d-3963-4387-a136-f972292460fa",
   "metadata": {},
   "outputs": [],
   "source": [
    "{'/'.join(available_flavors)}): \""
   ]
  }
 ],
 "metadata": {
  "kernelspec": {
   "display_name": "Python 3 (ipykernel)",
   "language": "python",
   "name": "python3"
  },
  "language_info": {
   "codemirror_mode": {
    "name": "ipython",
    "version": 3
   },
   "file_extension": ".py",
   "mimetype": "text/x-python",
   "name": "python",
   "nbconvert_exporter": "python",
   "pygments_lexer": "ipython3",
   "version": "3.12.4"
  }
 },
 "nbformat": 4,
 "nbformat_minor": 5
}
